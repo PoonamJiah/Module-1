{
  "nbformat": 4,
  "nbformat_minor": 0,
  "metadata": {
    "colab": {
      "provenance": [],
      "authorship_tag": "ABX9TyOevk7JJuZYG3GxywE9rABi"
    },
    "kernelspec": {
      "name": "python3",
      "display_name": "Python 3"
    },
    "language_info": {
      "name": "python"
    }
  },
  "cells": [
    {
      "cell_type": "code",
      "execution_count": null,
      "metadata": {
        "colab": {
          "base_uri": "https://localhost:8080/"
        },
        "id": "TBPYiJX6qm4r",
        "outputId": "40e323f6-39ba-48b3-ab91-6cbead121666"
      },
      "outputs": [
        {
          "output_type": "stream",
          "name": "stdout",
          "text": [
            "[1 2 3 4 5]\n",
            "[1 2 3 4 5]\n",
            "<class 'numpy.ndarray'>\n",
            "2\n",
            "6\n",
            "6\n",
            "0.6666666666666666\n",
            "0\n",
            "2\n"
          ]
        }
      ],
      "source": [
        "import numpy as np\n",
        "\n",
        "arr = np.array([1,2,3,4,5])  #List\n",
        "print(arr)\n",
        "\n",
        "arr1 = np.array((1,2,3,4,5))   #tuple\n",
        "print(arr1)\n",
        "\n",
        "print(type(arr))\n",
        "print(arr[1])\n",
        "print(arr[1]+arr[3])\n",
        "print(arr[1]*arr[2])\n",
        "print(arr[1]/arr[2])\n",
        "print(arr[1]//arr[2])  #floor division\n",
        "print(arr[1] & arr[2])  #Bitwise and"
      ]
    },
    {
      "cell_type": "markdown",
      "source": [
        "#2D and 3D\n"
      ],
      "metadata": {
        "id": "M_xhYZaStXMz"
      }
    },
    {
      "cell_type": "code",
      "source": [
        "import numpy as np\n",
        "arr = np.array([[1,2,3,4,5],[6,7,8,9,10]])\n",
        "print(\"2nd element on 1st row\",arr[0,1])\n",
        "print(\"5th element on the 2nd row\", arr[1,4])\n",
        "print(\"last element from the 2nd dim\", arr[1,-1] )\n",
        "\n",
        "arr = np.array([[[1,2,3],[4,5,6]],[[7,8,9],[10,11,12]]])\n",
        "print(arr[1,1,2])\n"
      ],
      "metadata": {
        "colab": {
          "base_uri": "https://localhost:8080/"
        },
        "id": "Vu2ORNGStaZO",
        "outputId": "43e5a2c7-3589-4bed-cf5f-d7ce9595f3a0"
      },
      "execution_count": null,
      "outputs": [
        {
          "output_type": "stream",
          "name": "stdout",
          "text": [
            "2nd element on 1st row 2\n",
            "5th element on the 2nd row 10\n",
            "last element from the 2nd dim 10\n",
            "12\n"
          ]
        }
      ]
    },
    {
      "cell_type": "markdown",
      "source": [
        "#Slicing"
      ],
      "metadata": {
        "id": "-A7GD_ASw5-4"
      }
    },
    {
      "cell_type": "code",
      "source": [
        "import numpy as np\n",
        "\n",
        "arr = np.array([[1,2,3,4,5],[6,7,8,9,10]])\n",
        "print(arr[1,1:4])\n",
        "print(arr[0:1,0:2])\n",
        "print(arr[0:2,1:4])"
      ],
      "metadata": {
        "colab": {
          "base_uri": "https://localhost:8080/"
        },
        "id": "Au5D1keHw7kZ",
        "outputId": "795cdffe-4609-4e3a-9067-60ad9353b27a"
      },
      "execution_count": 1,
      "outputs": [
        {
          "output_type": "stream",
          "name": "stdout",
          "text": [
            "[7 8 9]\n",
            "[[1 2]]\n",
            "[[2 3 4]\n",
            " [7 8 9]]\n"
          ]
        }
      ]
    }
  ]
}