{
  "nbformat": 4,
  "nbformat_minor": 0,
  "metadata": {
    "colab": {
      "provenance": [],
      "authorship_tag": "ABX9TyNBzNIGP9V0Yqygp049Ojo8",
      "include_colab_link": true
    },
    "kernelspec": {
      "name": "python3",
      "display_name": "Python 3"
    },
    "language_info": {
      "name": "python"
    }
  },
  "cells": [
    {
      "cell_type": "markdown",
      "metadata": {
        "id": "view-in-github",
        "colab_type": "text"
      },
      "source": [
        "<a href=\"https://colab.research.google.com/github/PoonamJiah/Module-1/blob/main/class_2_1.ipynb\" target=\"_parent\"><img src=\"https://colab.research.google.com/assets/colab-badge.svg\" alt=\"Open In Colab\"/></a>"
      ]
    },
    {
      "cell_type": "markdown",
      "source": [
        "#Calculating the area of a circle - 1"
      ],
      "metadata": {
        "id": "-gwOwj9F2NyT"
      }
    },
    {
      "cell_type": "code",
      "source": [
        "r = 6\n",
        "pi = 3.142\n",
        "a = pi * radius * radius\n",
        "print(a)"
      ],
      "metadata": {
        "colab": {
          "base_uri": "https://localhost:8080/"
        },
        "id": "zT7u3I2M2S09",
        "outputId": "15f0b7bf-f77f-4b11-ef20-fda8270ab730"
      },
      "execution_count": null,
      "outputs": [
        {
          "output_type": "stream",
          "name": "stdout",
          "text": [
            "113.112\n"
          ]
        }
      ]
    },
    {
      "cell_type": "markdown",
      "source": [
        "#Calculating the area of a circle - 2"
      ],
      "metadata": {
        "id": "eCvfBvhl3Wpm"
      }
    },
    {
      "cell_type": "code",
      "source": [
        "r = 6\n",
        "print(3.142 * radius * radius)\n"
      ],
      "metadata": {
        "colab": {
          "base_uri": "https://localhost:8080/"
        },
        "id": "JvFnMRjS3ZzE",
        "outputId": "ed2bfa56-7cc4-4716-cc91-adf45470c0b4"
      },
      "execution_count": null,
      "outputs": [
        {
          "output_type": "stream",
          "name": "stdout",
          "text": [
            "113.112\n"
          ]
        }
      ]
    },
    {
      "cell_type": "markdown",
      "source": [
        "#alculating the area of a circle - 3"
      ],
      "metadata": {
        "id": "nHXG7c-93u0e"
      }
    },
    {
      "cell_type": "code",
      "source": [
        "radius = 6\n",
        "area = (3.142 * radius **2)\n",
        "print('The radius of the circle is:',radius,'units')\n",
        "print(\"The area of the circle is:\",area,\"sq units\" )\n",
        "\n"
      ],
      "metadata": {
        "colab": {
          "base_uri": "https://localhost:8080/"
        },
        "id": "NxHxh5zZ3yGB",
        "outputId": "d3276803-174a-489e-82e8-82ba5d494dbf"
      },
      "execution_count": null,
      "outputs": [
        {
          "output_type": "stream",
          "name": "stdout",
          "text": [
            "The radius of the circle is: 6 units\n",
            "The area of the circle is: 113.112 sq units\n"
          ]
        }
      ]
    },
    {
      "cell_type": "markdown",
      "source": [],
      "metadata": {
        "id": "qT3f56Ks4M4B"
      }
    },
    {
      "cell_type": "code",
      "source": [
        "a = 'I am eager to learn Python'\n",
        "b = 'I am happy to be here'\n",
        "print(a +'\\n'+ b)\n",
        "print(a,b)"
      ],
      "metadata": {
        "colab": {
          "base_uri": "https://localhost:8080/"
        },
        "id": "vpTTQDe95Snm",
        "outputId": "462fbd31-7a53-4528-baa1-3a9df6aa75de"
      },
      "execution_count": null,
      "outputs": [
        {
          "output_type": "stream",
          "name": "stdout",
          "text": [
            "I am eager to learn Python\n",
            "I am happy to be here\n",
            "I am eager to learn Python I am happy to be here\n"
          ]
        }
      ]
    },
    {
      "cell_type": "code",
      "source": [
        "n1=345\n",
        "n2 = 456\n",
        "print(\"The addition of two numbers is:\",n1+n2)"
      ],
      "metadata": {
        "colab": {
          "base_uri": "https://localhost:8080/"
        },
        "id": "XtOX7YbI7LqA",
        "outputId": "05f611b8-8a59-4a9c-8598-97bc24cf04c6"
      },
      "execution_count": null,
      "outputs": [
        {
          "output_type": "stream",
          "name": "stdout",
          "text": [
            "The addition of two numbers is: 801\n"
          ]
        }
      ]
    },
    {
      "cell_type": "code",
      "source": [
        "a = \"\"\"This is\n",
        "my first program with\n",
        "strings in python\"\"\"\n",
        "print(a)"
      ],
      "metadata": {
        "colab": {
          "base_uri": "https://localhost:8080/"
        },
        "id": "O2pDGW0LBihM",
        "outputId": "672b83ef-7588-4a6e-deaf-dfc8777e0107"
      },
      "execution_count": null,
      "outputs": [
        {
          "output_type": "stream",
          "name": "stdout",
          "text": [
            "This is \n",
            "my first program with\n",
            "strings in python\n"
          ]
        }
      ]
    },
    {
      "cell_type": "code",
      "source": [
        "a = \"Life is beautiful\"\n",
        "print(a[0])\n",
        "print(a[1])\n",
        "print(a[:9])\n",
        "print(a[1:9])\n",
        "print(a[2:10])\n",
        "\n",
        "for i in a:\n",
        "  print(i)"
      ],
      "metadata": {
        "colab": {
          "base_uri": "https://localhost:8080/"
        },
        "id": "NbkEZXExBvOn",
        "outputId": "f2c13c86-c388-4ee4-945f-9ac98035bae1"
      },
      "execution_count": null,
      "outputs": [
        {
          "output_type": "stream",
          "name": "stdout",
          "text": [
            "L\n",
            "i\n",
            "Life is b\n",
            "ife is b\n",
            "fe is be\n",
            "L\n",
            "i\n",
            "f\n",
            "e\n",
            " \n",
            "i\n",
            "s\n",
            " \n",
            "b\n",
            "e\n",
            "a\n",
            "u\n",
            "t\n",
            "i\n",
            "f\n",
            "u\n",
            "l\n"
          ]
        }
      ]
    },
    {
      "cell_type": "code",
      "source": [
        "a = \"Life is beautiful\"\n",
        "print('Life' in a)\n",
        "print('is' not in a)"
      ],
      "metadata": {
        "colab": {
          "base_uri": "https://localhost:8080/"
        },
        "id": "cKeIV-qoFrmf",
        "outputId": "e9c1dca6-81a1-4700-b2b9-1fc81b2f3228"
      },
      "execution_count": null,
      "outputs": [
        {
          "output_type": "stream",
          "name": "stdout",
          "text": [
            "True\n",
            "False\n"
          ]
        }
      ]
    },
    {
      "cell_type": "code",
      "source": [
        "a = \"Life is beautiful\"\n",
        "b = \"and so is death\"\n",
        "print(len(a))\n",
        "print(a.upper()) #capitalize\n",
        "print(a.lower())\n",
        "print(a.replace(\"L\",\"w\"))\n",
        "print(a.split())\n",
        "print(a,b)\n",
        "print(a + b)\n",
        "print(a+\" \"+b)\n",
        "print(a+\"\\n\"+b)\n",
        "\n",
        "\n",
        "a = \"11am\"\n",
        "b = \"Lecture will be conducted at:\"+a\n",
        "print(b)\n"
      ],
      "metadata": {
        "colab": {
          "base_uri": "https://localhost:8080/"
        },
        "id": "PsQFD2t0GXLy",
        "outputId": "8a294102-6128-4ab0-a7f4-4210931f9a03"
      },
      "execution_count": null,
      "outputs": [
        {
          "output_type": "stream",
          "name": "stdout",
          "text": [
            "17\n",
            "LIFE IS BEAUTIFUL\n",
            "life is beautiful\n",
            "wife is beautiful\n",
            "['Life', 'is', 'beautiful']\n",
            "Life is beautiful and so is death\n",
            "Life is beautifuland so is death\n",
            "Life is beautiful and so is death\n",
            "Life is beautiful\n",
            "and so is death\n",
            "Lecture will be conducted at:11am\n"
          ]
        }
      ]
    },
    {
      "cell_type": "code",
      "source": [
        "a = \"Hello, How are you?\"\n",
        "print(a.endswith(\"?\"))\n",
        "\n",
        "a = \"health.jpg\"\n",
        "print(a.endswith(\".jpg\"))\n",
        "\n",
        "a = \"Hello, how are you?\"\n",
        "x = a.find(\"are\") #in\n",
        "print(x)"
      ],
      "metadata": {
        "colab": {
          "base_uri": "https://localhost:8080/"
        },
        "id": "OIXEzFmfJQcl",
        "outputId": "550b0e44-82e8-4aa9-b942-c56d016205e0"
      },
      "execution_count": null,
      "outputs": [
        {
          "output_type": "stream",
          "name": "stdout",
          "text": [
            "True\n",
            "True\n",
            "11\n"
          ]
        }
      ]
    }
  ]
}