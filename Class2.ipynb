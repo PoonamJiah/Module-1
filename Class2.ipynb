{
  "nbformat": 4,
  "nbformat_minor": 0,
  "metadata": {
    "colab": {
      "provenance": [],
      "authorship_tag": "ABX9TyOXGCqsQIcl6TfwkEZbL+Or"
    },
    "kernelspec": {
      "name": "python3",
      "display_name": "Python 3"
    },
    "language_info": {
      "name": "python"
    }
  },
  "cells": [
    {
      "cell_type": "code",
      "execution_count": null,
      "metadata": {
        "colab": {
          "base_uri": "https://localhost:8080/"
        },
        "id": "CExxWIrOdpC1",
        "outputId": "323f09d6-1f13-45bb-9c68-768a5531cfb8"
      },
      "outputs": [
        {
          "output_type": "stream",
          "name": "stdout",
          "text": [
            "Life is beautiful\n",
            "LIFE IS BEAUTIFUL\n",
            "life is beautiful\n",
            "3\n",
            " life is beautiful  \n"
          ]
        }
      ],
      "source": [
        "a = \"life is beautiful\"\n",
        "print(a.capitalize())\n",
        "print(a.upper())\n",
        "print(a.casefold())\n",
        "print(a.count(\"i\"))\n",
        "print(a.center(20))"
      ]
    },
    {
      "cell_type": "markdown",
      "source": [
        "#Encoding"
      ],
      "metadata": {
        "id": "8RKP5o1peoQP"
      }
    },
    {
      "cell_type": "code",
      "source": [
        "e = a.encode()\n",
        "print(e)\n",
        "\n",
        "e1 = a.encode(\"utf-8\")\n",
        "print(e1)\n",
        "\n",
        "e1 = a.encode(\"utf-16\")\n",
        "print(e1)\n",
        "\n",
        "e2 = a.encode(\"ascii\")\n",
        "print(e2)\n",
        "\n",
        "a1 = \"Python £ is fun £\"\n",
        "e3 = a1.encode(\"ascii\",errors = \"replace\")\n",
        "print(e3)\n",
        "e4 = a1.encode(\"ascii\",errors = \"xmlcharrefreplace\")\n",
        "print(e4)\n"
      ],
      "metadata": {
        "colab": {
          "base_uri": "https://localhost:8080/"
        },
        "id": "3zMPNhVDeqEK",
        "outputId": "2f505bb0-c4dd-43b8-d493-31aa680fa510"
      },
      "execution_count": null,
      "outputs": [
        {
          "output_type": "stream",
          "name": "stdout",
          "text": [
            "b'life is beautiful'\n",
            "b'life is beautiful'\n",
            "b'\\xff\\xfel\\x00i\\x00f\\x00e\\x00 \\x00i\\x00s\\x00 \\x00b\\x00e\\x00a\\x00u\\x00t\\x00i\\x00f\\x00u\\x00l\\x00'\n",
            "b'life is beautiful'\n",
            "b'Python ? is fun ?'\n",
            "b'Python &#163; is fun &#163;'\n"
          ]
        }
      ]
    },
    {
      "cell_type": "markdown",
      "source": [
        "#ends with"
      ],
      "metadata": {
        "id": "yay3bq4disaG"
      }
    },
    {
      "cell_type": "code",
      "source": [
        "a = \"pic.jpg\"\n",
        "print(a.endswith(\".jpg\"))\n"
      ],
      "metadata": {
        "colab": {
          "base_uri": "https://localhost:8080/"
        },
        "id": "JN8P_Q4FiuoF",
        "outputId": "8c19971f-8afd-437d-f63e-cfd8110de11a"
      },
      "execution_count": null,
      "outputs": [
        {
          "output_type": "stream",
          "name": "stdout",
          "text": [
            "True\n"
          ]
        }
      ]
    },
    {
      "cell_type": "markdown",
      "source": [
        "#expand tabs"
      ],
      "metadata": {
        "id": "KHda36pLjaEL"
      }
    },
    {
      "cell_type": "code",
      "source": [
        "a = \"Sr.no\\tName\\tRoll_no\"\n",
        "print(a)\n",
        "print(a.expandtabs(22))"
      ],
      "metadata": {
        "colab": {
          "base_uri": "https://localhost:8080/"
        },
        "id": "zSMFRRUWjcto",
        "outputId": "2d67051c-9d1c-4472-f3e9-6043b18eb072"
      },
      "execution_count": null,
      "outputs": [
        {
          "output_type": "stream",
          "name": "stdout",
          "text": [
            "Sr.no\tName\tRoll_no\n",
            "Sr.no                 Name                  Roll_no\n"
          ]
        }
      ]
    },
    {
      "cell_type": "markdown",
      "source": [
        "# find"
      ],
      "metadata": {
        "id": "ISyP96dgkgwt"
      }
    },
    {
      "cell_type": "code",
      "source": [
        "a = \"Hello how are you\"\n",
        "x = a.find(\"are\")\n",
        "print(x)\n"
      ],
      "metadata": {
        "colab": {
          "base_uri": "https://localhost:8080/"
        },
        "id": "pHRJgp2slDXK",
        "outputId": "e0071796-4bfa-4dc4-ce3f-c8e4ad3d7d94"
      },
      "execution_count": null,
      "outputs": [
        {
          "output_type": "stream",
          "name": "stdout",
          "text": [
            "10\n"
          ]
        }
      ]
    },
    {
      "cell_type": "markdown",
      "source": [
        "#Format #Place holders"
      ],
      "metadata": {
        "id": "2EW7NSDkljj2"
      }
    },
    {
      "cell_type": "code",
      "source": [
        "a = \"Hi\"\n",
        "b = \"2nd\"\n",
        "\n",
        "y = \"\"\"{}How have you all been?\n",
        "Welcome to {} class\"\"\".format(a,a)\n",
        "print(y)\n",
        "\n",
        "z= \"\"\"{}How have you all been?\n",
        "Welcome to {} class\"\"\".format(\"Hi\",\"2nd\")\n",
        "print(z)\n",
        "\n"
      ],
      "metadata": {
        "colab": {
          "base_uri": "https://localhost:8080/"
        },
        "id": "7kVzZO7hllHf",
        "outputId": "29020049-07e2-44dc-cf6c-acabe83e5bae"
      },
      "execution_count": null,
      "outputs": [
        {
          "output_type": "stream",
          "name": "stdout",
          "text": [
            "HiHow have you all been?\n",
            "Welcome to Hi class\n",
            "HiHow have you all been?\n",
            "Welcome to 2nd class\n"
          ]
        }
      ]
    },
    {
      "cell_type": "markdown",
      "source": [
        "#List"
      ],
      "metadata": {
        "id": "Zcirbo4bv5Dj"
      }
    },
    {
      "cell_type": "code",
      "source": [
        "x =['Pen',225,'Paris',999,True]\n",
        "print(x)\n",
        "print(x[1])         #indexed\n",
        "print(type(x[1]))   #type\n",
        "print(len(x))       #len\n",
        "print(x[-1])        #Last element\n",
        "\n",
        "x = [2]* 5\n",
        "print(x)\n"
      ],
      "metadata": {
        "colab": {
          "base_uri": "https://localhost:8080/"
        },
        "id": "HFSjZVQuv7OW",
        "outputId": "b83d6615-b837-4bd4-8319-9450952b2327"
      },
      "execution_count": null,
      "outputs": [
        {
          "output_type": "stream",
          "name": "stdout",
          "text": [
            "['Pen', 225, 'Paris', 999, True]\n",
            "225\n",
            "<class 'int'>\n",
            "5\n",
            "True\n",
            "[2, 2, 2, 2, 2]\n"
          ]
        }
      ]
    },
    {
      "cell_type": "markdown",
      "source": [
        "#add/append"
      ],
      "metadata": {
        "id": "vynrmINWybmC"
      }
    },
    {
      "cell_type": "code",
      "source": [
        "x = [2,4,6,8]\n",
        "x.append(10)\n",
        "print(x)\n",
        "\n",
        "x.insert(4,12)\n",
        "print(x)\n",
        "\n",
        "x.extend([14,16,18])\n",
        "print(x)\n",
        "2, 4, 6, 8, 12, 10, 14, 16, 18]\n",
        "x[5]=11\n",
        "print(x)\n"
      ],
      "metadata": {
        "colab": {
          "base_uri": "https://localhost:8080/"
        },
        "id": "J7GO0dpOyfmW",
        "outputId": "98c3e330-5147-4c97-91b9-18acb0fb7943"
      },
      "execution_count": null,
      "outputs": [
        {
          "output_type": "stream",
          "name": "stdout",
          "text": [
            "[2, 4, 6, 8, 10]\n",
            "[2, 4, 6, 8, 12, 10]\n",
            "[2, 4, 6, 8, 12, 10, 14, 16, 18]\n",
            "[2, 4, 6, 8, 12, 11, 14, 16, 18]\n"
          ]
        }
      ]
    },
    {
      "cell_type": "markdown",
      "source": [
        "#Removing"
      ],
      "metadata": {
        "id": "ihVipv0Hzknv"
      }
    },
    {
      "cell_type": "code",
      "source": [
        "x = [2, 4, 6, 8, 12, 10, 14, 16, 18,10]\n",
        "x.remove(10)        #remove the 1st occurence\n",
        "print(x)\n",
        "\n",
        "y = x.pop()         #remove the last element\n",
        "print(y)\n",
        "print(x)\n",
        "\n",
        "del x[2]            #remove the element at index 2\n",
        "print(x)\n",
        "\n",
        "del x[2:5]          #remove the elements at index 2,3,4\n",
        "print(x)\n",
        "\n",
        "x.clear()           #remove all elements\n",
        "print(x)\n"
      ],
      "metadata": {
        "colab": {
          "base_uri": "https://localhost:8080/"
        },
        "id": "Ce-a4kWjznNe",
        "outputId": "d4156bc4-d000-4880-b114-9c8aa5adbc05"
      },
      "execution_count": null,
      "outputs": [
        {
          "output_type": "stream",
          "name": "stdout",
          "text": [
            "[2, 4, 6, 8, 12, 14, 16, 18, 10]\n",
            "10\n",
            "[2, 4, 6, 8, 12, 14, 16, 18]\n",
            "[2, 4, 8, 12, 14, 16, 18]\n",
            "[2, 4, 16, 18]\n",
            "[]\n"
          ]
        }
      ]
    },
    {
      "cell_type": "markdown",
      "source": [
        "#Loop"
      ],
      "metadata": {
        "id": "reSg1YmL03WZ"
      }
    },
    {
      "cell_type": "code",
      "source": [
        "x  = ['Pen',25, True]\n",
        "for i in x:           #Loops in a list\n",
        "  print(i)\n",
        "\n",
        "y = [['Pen',25, True],[1,45,'Hi',\"true\", 777]]  #Nested list\n",
        "print(y)\n"
      ],
      "metadata": {
        "colab": {
          "base_uri": "https://localhost:8080/"
        },
        "id": "lKv8PqBF063i",
        "outputId": "57c86860-4b8e-4af7-9cfd-1572e8bbfef6"
      },
      "execution_count": null,
      "outputs": [
        {
          "output_type": "stream",
          "name": "stdout",
          "text": [
            "Pen\n",
            "25\n",
            "True\n",
            "[['Pen', 25, True], [1, 45, 'Hi', 'true', 777]]\n"
          ]
        }
      ]
    }
  ]
}