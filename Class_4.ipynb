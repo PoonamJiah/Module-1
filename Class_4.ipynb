{
  "nbformat": 4,
  "nbformat_minor": 0,
  "metadata": {
    "colab": {
      "provenance": [],
      "authorship_tag": "ABX9TyM1mtbJsKgMD46UuUYO+uo4"
    },
    "kernelspec": {
      "name": "python3",
      "display_name": "Python 3"
    },
    "language_info": {
      "name": "python"
    }
  },
  "cells": [
    {
      "cell_type": "markdown",
      "source": [
        "#Union"
      ],
      "metadata": {
        "id": "-VePthYAgvrg"
      }
    },
    {
      "cell_type": "code",
      "execution_count": null,
      "metadata": {
        "colab": {
          "base_uri": "https://localhost:8080/"
        },
        "id": "e-mo9IB8felE",
        "outputId": "cc419e68-016e-445a-c331-42848fcfe66d"
      },
      "outputs": [
        {
          "output_type": "stream",
          "name": "stdout",
          "text": [
            "{False, 1, 2, 50, 'Italy', 'Pen', 'Rome', 'Paris'}\n",
            "{False, 1, 2, 50, 'Italy', 'Pen', 'Rome', 'Paris'}\n"
          ]
        }
      ],
      "source": [
        "x = {1,2, \"Pen\", False}\n",
        "y = {\"Rome\",\"Paris\"}\n",
        "z = {\"Italy\", 50}\n",
        "print(x.union(y,z))\n",
        "print(x | y | z)"
      ]
    },
    {
      "cell_type": "markdown",
      "source": [
        "#Intersection"
      ],
      "metadata": {
        "id": "LdoujdjhgzFj"
      }
    },
    {
      "cell_type": "code",
      "source": [
        "x = {1,2, \"Pen\", False}\n",
        "y = {\"Rome\",\"Paris\",2,999, False}\n",
        "z = {\"Italy\",2, 50,999}\n",
        "print(x.intersection(y))\n",
        "print(y.intersection(z))\n",
        "print(x & y & z)"
      ],
      "metadata": {
        "colab": {
          "base_uri": "https://localhost:8080/"
        },
        "id": "GjN0pw3Rg1Uk",
        "outputId": "8e9862e4-4fda-4739-e11a-fae3a36d54ce"
      },
      "execution_count": null,
      "outputs": [
        {
          "output_type": "stream",
          "name": "stdout",
          "text": [
            "{False, 2}\n",
            "{2, 999}\n",
            "{2}\n"
          ]
        }
      ]
    },
    {
      "cell_type": "markdown",
      "source": [
        "#Difference"
      ],
      "metadata": {
        "id": "gBeG0L2_ifgY"
      }
    },
    {
      "cell_type": "code",
      "source": [
        "x = {1,2, \"Pen\", False}\n",
        "y = {\"Rome\",\"Paris\",2,999, False}\n",
        "print(x.difference(y))\n",
        "print(x-y)"
      ],
      "metadata": {
        "colab": {
          "base_uri": "https://localhost:8080/"
        },
        "id": "iZ4KB0-aihK8",
        "outputId": "59b14adc-f6f6-4531-9224-7dbbe50249ff"
      },
      "execution_count": null,
      "outputs": [
        {
          "output_type": "stream",
          "name": "stdout",
          "text": [
            "{1, 'Pen'}\n",
            "{1, 'Pen'}\n"
          ]
        }
      ]
    },
    {
      "cell_type": "markdown",
      "source": [
        "#symmetric difference"
      ],
      "metadata": {
        "id": "ObtUVTqnjDy8"
      }
    },
    {
      "cell_type": "code",
      "source": [
        "x = {1,2, \"Pen\", False}\n",
        "y = {\"Rome\",\"Paris\",2,999, False}\n",
        "print(x.symmetric_difference(y))\n",
        "print(x ^ y)"
      ],
      "metadata": {
        "colab": {
          "base_uri": "https://localhost:8080/"
        },
        "id": "HmdBw263jF48",
        "outputId": "683343a8-0958-4e56-884f-72b5d9f21558"
      },
      "execution_count": null,
      "outputs": [
        {
          "output_type": "stream",
          "name": "stdout",
          "text": [
            "{1, 'Pen', 999, 'Rome', 'Paris'}\n",
            "{1, 'Pen', 999, 'Rome', 'Paris'}\n"
          ]
        }
      ]
    },
    {
      "cell_type": "markdown",
      "source": [
        "#symmetric difference update"
      ],
      "metadata": {
        "id": "axEsAvROk7fL"
      }
    },
    {
      "cell_type": "code",
      "source": [
        "x = {1,2, \"Pen\", False}\n",
        "y = {\"Rome\",\"Paris\",2,999, False}\n",
        "print(x.symmetric_difference_update(y))\n",
        "print(x)\n"
      ],
      "metadata": {
        "colab": {
          "base_uri": "https://localhost:8080/"
        },
        "id": "Dq5QjNt5lGqB",
        "outputId": "e356f01e-454a-49b7-bac7-514aa5ce45f5"
      },
      "execution_count": null,
      "outputs": [
        {
          "output_type": "stream",
          "name": "stdout",
          "text": [
            "None\n",
            "{1, 'Pen', 999, 'Rome', 'Paris'}\n"
          ]
        }
      ]
    },
    {
      "cell_type": "markdown",
      "source": [
        "#Dictionary"
      ],
      "metadata": {
        "id": "hS6usLoUxKnz"
      }
    },
    {
      "cell_type": "code",
      "source": [
        "capitals = {\"Country\":\"Italy\",\"Capital\":\"Rome\",\"Famous\":'Milan'}\n",
        "print(capitals)\n",
        "print(capitals[\"Country\"])\n",
        "print(capitals.get(\"Famous\"))\n",
        "print(capitals.keys())\n",
        "print(capitals.values())\n",
        "print(capitals.items())\n"
      ],
      "metadata": {
        "colab": {
          "base_uri": "https://localhost:8080/"
        },
        "id": "7SEIjMvdxMU0",
        "outputId": "ac1e2e53-26aa-433d-fe97-d114b3ea80d1"
      },
      "execution_count": null,
      "outputs": [
        {
          "output_type": "stream",
          "name": "stdout",
          "text": [
            "{'Country': 'Italy', 'Capital': 'Rome', 'Famous': 'Milan'}\n",
            "Italy\n",
            "Milan\n",
            "dict_keys(['Country', 'Capital', 'Famous'])\n",
            "dict_values(['Italy', 'Rome', 'Milan'])\n",
            "dict_items([('Country', 'Italy'), ('Capital', 'Rome'), ('Famous', 'Milan')])\n"
          ]
        }
      ]
    },
    {
      "cell_type": "code",
      "source": [
        "i = [\"prod_id\", \"prod_name\", \"prod_price\", \"prod_qty\"]\n",
        "I = dict.fromkeys(i,{})\n",
        "print(I)"
      ],
      "metadata": {
        "colab": {
          "base_uri": "https://localhost:8080/"
        },
        "id": "JPoyMcvLyxJ8",
        "outputId": "d4f14d24-a19b-4996-d62d-a14bb300cc69"
      },
      "execution_count": null,
      "outputs": [
        {
          "output_type": "stream",
          "name": "stdout",
          "text": [
            "{'prod_id': {}, 'prod_name': {}, 'prod_price': {}, 'prod_qty': {}}\n"
          ]
        }
      ]
    },
    {
      "cell_type": "markdown",
      "source": [
        "#example"
      ],
      "metadata": {
        "id": "GkeKRLCpzx5f"
      }
    },
    {
      "cell_type": "code",
      "source": [
        "stud = {\"roll no\":1,\"NAme\": \"ABC\", \"Marks\":89,\"Subject\":{\"Physics\",\"Maths\"}}\n",
        "print(stud)\n",
        "print(type(stud))\n",
        "\n",
        "stud = dict(rollno=1,Name=\"XYZ\",Marks=90,Subject={\"Physics\",\"Maths\"})     #constructor\n",
        "print(stud)\n",
        "\n",
        "print(stud.get(\"rollno\"))\n",
        "stud.update({\"Result\":\"Pass\"})\n",
        "stud[\"Percentage\"]=96\n",
        "print(stud)\n",
        "\n",
        "print(stud.pop(\"Result\"))\n",
        "print(stud.popitem())\n",
        "#print(stud)\n",
        "\n",
        "del stud[\"Marks\"]\n",
        "print(stud)\n",
        "\n",
        "#copy\n",
        "stud1 = stud.copy()\n",
        "print(stud1)\n",
        "\n",
        "\n"
      ],
      "metadata": {
        "colab": {
          "base_uri": "https://localhost:8080/"
        },
        "id": "cQ0sqV1yzz0e",
        "outputId": "0619710c-b93b-44e1-f265-7f79242e5660"
      },
      "execution_count": null,
      "outputs": [
        {
          "output_type": "stream",
          "name": "stdout",
          "text": [
            "{'roll no': 1, 'NAme': 'ABC', 'Marks': 89, 'Subject': {'Maths', 'Physics'}}\n",
            "<class 'dict'>\n",
            "{'rollno': 1, 'Name': 'XYZ', 'Marks': 90, 'Subject': {'Maths', 'Physics'}}\n",
            "1\n",
            "{'rollno': 1, 'Name': 'XYZ', 'Marks': 90, 'Subject': {'Maths', 'Physics'}, 'Result': 'Pass', 'Percentage': 96}\n",
            "Pass\n",
            "('Percentage', 96)\n",
            "{'rollno': 1, 'Name': 'XYZ', 'Subject': {'Maths', 'Physics'}}\n",
            "{'rollno': 1, 'Name': 'XYZ', 'Subject': {'Maths', 'Physics'}}\n"
          ]
        }
      ]
    },
    {
      "cell_type": "markdown",
      "source": [
        "#Loop"
      ],
      "metadata": {
        "id": "mxYxnlD4343x"
      }
    },
    {
      "cell_type": "code",
      "source": [
        "stud = {\"roll no\":1,\"NAme\": \"ABC\", \"Marks\":89,\"Subject\":{\"Physics\",\"Maths\"}}\n",
        "for i in stud:\n",
        "  print(i,stud[i])"
      ],
      "metadata": {
        "colab": {
          "base_uri": "https://localhost:8080/"
        },
        "id": "lbSwPoyG36FM",
        "outputId": "891efa5e-ca49-44de-fbfb-29418165c11a"
      },
      "execution_count": null,
      "outputs": [
        {
          "output_type": "stream",
          "name": "stdout",
          "text": [
            "roll no 1\n",
            "NAme ABC\n",
            "Marks 89\n",
            "Subject {'Maths', 'Physics'}\n"
          ]
        }
      ]
    },
    {
      "cell_type": "code",
      "source": [
        "stud = [ {\"roll no\":1,\"NAme\": \"ABC\", \"Marks\":89,\"Subject\":{\"Physics\",\"Maths\"}},\n",
        "         {\"roll no\":2,\"NAme\": \"PQR\", \"Marks\":76,\"Subject\":{\"Physics\",\"Maths\"}}\n",
        "    ]\n",
        "for s in stud:\n",
        "  for key,value in s.items():\n",
        "    print(key,value)\n",
        "\n"
      ],
      "metadata": {
        "colab": {
          "base_uri": "https://localhost:8080/"
        },
        "id": "W0BNSDOv4xja",
        "outputId": "90dec81d-a637-4093-b4c0-1abb0ceec529"
      },
      "execution_count": null,
      "outputs": [
        {
          "output_type": "stream",
          "name": "stdout",
          "text": [
            "roll no 1\n",
            "NAme ABC\n",
            "Marks 89\n",
            "Subject {'Maths', 'Physics'}\n",
            "roll no 2\n",
            "NAme PQR\n",
            "Marks 76\n",
            "Subject {'Maths', 'Physics'}\n"
          ]
        }
      ]
    }
  ]
}