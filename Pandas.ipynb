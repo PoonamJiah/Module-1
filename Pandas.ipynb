{
  "nbformat": 4,
  "nbformat_minor": 0,
  "metadata": {
    "colab": {
      "provenance": [],
      "mount_file_id": "1Wtz34C0U2ATt8qhr6MKm4HUwpK2NXI2R",
      "authorship_tag": "ABX9TyOb+Kvi4xDfo+4BP7GD65+f"
    },
    "kernelspec": {
      "name": "python3",
      "display_name": "Python 3"
    },
    "language_info": {
      "name": "python"
    }
  },
  "cells": [
    {
      "cell_type": "code",
      "source": [
        "import pandas as pd\n",
        "\n",
        "mydataset = {\n",
        "  'cars': [\"BMW\", \"Volvo\", \"Ford\"],\n",
        "  'passings': [3, 7, 2]\n",
        "}\n",
        "\n",
        "df = pd.DataFrame(mydataset)\n",
        "\n",
        "print(df)"
      ],
      "metadata": {
        "colab": {
          "base_uri": "https://localhost:8080/"
        },
        "id": "0xGBPPdq8Sl7",
        "outputId": "e2a49993-3c26-4004-c5dd-5466ff57abf8"
      },
      "execution_count": null,
      "outputs": [
        {
          "output_type": "stream",
          "name": "stdout",
          "text": [
            "    cars  passings\n",
            "0    BMW         3\n",
            "1  Volvo         7\n",
            "2   Ford         2\n"
          ]
        }
      ]
    },
    {
      "cell_type": "code",
      "source": [
        "import pandas as pd\n",
        "\n",
        "a = [1, 7, 2]\n",
        "\n",
        "myvar = pd.Series(a)  #A Pandas Series is like a column in a table.\n",
        "\n",
        "                      #It is a one-dimensional array holding data of any type.\n",
        "\n",
        "print(myvar)\n",
        "print(myvar[0])"
      ],
      "metadata": {
        "colab": {
          "base_uri": "https://localhost:8080/"
        },
        "id": "BlEuJO328b5D",
        "outputId": "7967e228-d7b7-4584-971f-7bed736e9d59"
      },
      "execution_count": null,
      "outputs": [
        {
          "output_type": "stream",
          "name": "stdout",
          "text": [
            "0    1\n",
            "1    7\n",
            "2    2\n",
            "dtype: int64\n",
            "1\n"
          ]
        }
      ]
    },
    {
      "cell_type": "code",
      "source": [
        "import pandas as pd\n",
        "\n",
        "a = [1, 7, 2]\n",
        "\n",
        "myvar = pd.Series(a, index = [\"x\", \"y\", \"z\"])     #name your own labels\n",
        "\n",
        "print(myvar)\n",
        "print(myvar[\"y\"])"
      ],
      "metadata": {
        "colab": {
          "base_uri": "https://localhost:8080/"
        },
        "id": "BUYHmZJq8xTj",
        "outputId": "b6b940ea-092c-4fa2-b901-60f2e99e3ec6"
      },
      "execution_count": null,
      "outputs": [
        {
          "output_type": "stream",
          "name": "stdout",
          "text": [
            "x    1\n",
            "y    7\n",
            "z    2\n",
            "dtype: int64\n",
            "7\n"
          ]
        }
      ]
    },
    {
      "cell_type": "code",
      "source": [
        "import pandas as pd\n",
        "\n",
        "data = {\n",
        "  \"calories\": [420, 380, 390],\n",
        "  \"duration\": [50, 40, 45]\n",
        "}\n",
        "\n",
        "#load data into a DataFrame object:  DataFrame is a 2 dimensional data structure\n",
        "df = pd.DataFrame(data)\n",
        "\n",
        "print(df)\n",
        "print(df.loc[0])\n",
        "print(df.loc[[0, 1]])  #When using [], the result is a Pandas DataFrame"
      ],
      "metadata": {
        "colab": {
          "base_uri": "https://localhost:8080/"
        },
        "id": "NkkE_Yyv83a7",
        "outputId": "03945e58-6220-4559-dd4f-4ff6905582ac"
      },
      "execution_count": null,
      "outputs": [
        {
          "output_type": "stream",
          "name": "stdout",
          "text": [
            "   calories  duration\n",
            "0       420        50\n",
            "1       380        40\n",
            "2       390        45\n",
            "calories    420\n",
            "duration     50\n",
            "Name: 0, dtype: int64\n",
            "   calories  duration\n",
            "0       420        50\n",
            "1       380        40\n"
          ]
        }
      ]
    },
    {
      "cell_type": "markdown",
      "source": [
        "#Printing data frame"
      ],
      "metadata": {
        "id": "Qy4CTeSgINrp"
      }
    },
    {
      "cell_type": "code",
      "source": [
        "import pandas as pd\n",
        "df = pd.read_csv('/content/data.csv')   #mount drive\n",
        "#print(df.to_string())           #print the entire DataFrame\n",
        "#print(df.head(10))\n",
        "#print(df.tail(10))\n",
        "print(df.info())\n"
      ],
      "metadata": {
        "colab": {
          "base_uri": "https://localhost:8080/"
        },
        "id": "0b3-S1j_8oXj",
        "outputId": "80f24c41-510f-4957-ab33-bc4a7d1c7757"
      },
      "execution_count": null,
      "outputs": [
        {
          "output_type": "stream",
          "name": "stdout",
          "text": [
            "<class 'pandas.core.frame.DataFrame'>\n",
            "RangeIndex: 170 entries, 0 to 169\n",
            "Data columns (total 4 columns):\n",
            " #   Column    Non-Null Count  Dtype  \n",
            "---  ------    --------------  -----  \n",
            " 0   Duration  170 non-null    int64  \n",
            " 1   Pulse     170 non-null    object \n",
            " 2   Maxpulse  170 non-null    int64  \n",
            " 3   Calories  165 non-null    float64\n",
            "dtypes: float64(1), int64(2), object(1)\n",
            "memory usage: 5.4+ KB\n",
            "None\n"
          ]
        }
      ]
    },
    {
      "cell_type": "markdown",
      "source": [
        "#Max row size"
      ],
      "metadata": {
        "id": "KYk7Qe84IHgL"
      }
    },
    {
      "cell_type": "code",
      "source": [
        "import pandas as pd\n",
        "\n",
        "df = pd.read_csv('/content/data.csv')\n",
        "\n",
        "print(df)     #only return the first 5 rows, and the last 5 rows\n",
        "#print(pd.options.display.max_rows)  #if the DF > 60 rows, print 1st and last 5 rows\n",
        "#pd.options.display.max_rows = 9999\n",
        "#print(df)\n",
        "\n"
      ],
      "metadata": {
        "id": "Tn3i57EWCzWL",
        "colab": {
          "base_uri": "https://localhost:8080/"
        },
        "outputId": "9ecc545d-9ba2-40bc-d6a3-4ef70aa11637"
      },
      "execution_count": null,
      "outputs": [
        {
          "output_type": "stream",
          "name": "stdout",
          "text": [
            "     Duration Pulse  Maxpulse  Calories\n",
            "0          60   110       450     409.1\n",
            "1          60   117       145     479.0\n",
            "2          60   103       135     340.0\n",
            "3          45   109       175     282.4\n",
            "4          45   117       148     406.0\n",
            "..        ...   ...       ...       ...\n",
            "165        60   105       140     290.8\n",
            "166        60   110       145     300.0\n",
            "167        60   115       145     310.2\n",
            "168        75   120       150     320.4\n",
            "169        75   125       150     330.4\n",
            "\n",
            "[170 rows x 4 columns]\n"
          ]
        }
      ]
    },
    {
      "cell_type": "markdown",
      "source": [
        "# Empty Data: \"Date\" in row 22, and \"Calories\" in row 18 and 28"
      ],
      "metadata": {
        "id": "YAdTCknGH-Oo"
      }
    },
    {
      "cell_type": "code",
      "source": [
        "import pandas as pd\n",
        "df = pd.read_csv('/content/data.csv')\n",
        "\n",
        " #\"Date\" in row 22, and \"Calories\" in row 18 and 28\n",
        "#new_df = df.dropna()\n",
        "#print(new_df.to_string())    #row 17, 27 dropped\n",
        "#df.dropna(inplace = True)     #row 17, 27 dropped\n",
        "#print(df.to_string())\n",
        "#df.fillna(130, inplace = True)\n",
        "#print(df.to_string())\n",
        "#df[\"Calories\"].fillna(130, inplace = True)\n",
        "#print(df.to_string())\n",
        "x = df[\"Calories\"].mean()   #mean() median() and mode()\n",
        "df[\"Calories\"].fillna(x, inplace = True)\n",
        "print(df.to_string())"
      ],
      "metadata": {
        "id": "SLqPyvokH3DM"
      },
      "execution_count": null,
      "outputs": []
    },
    {
      "cell_type": "markdown",
      "source": [
        "#Wrong Format of data"
      ],
      "metadata": {
        "id": "Jfz_gxmmUO2g"
      }
    },
    {
      "cell_type": "code",
      "source": [
        "#row 9 and 15 in Pulse column\n",
        "import pandas as pd\n",
        "\n",
        "df = pd.read_csv('/content/data.csv')\n",
        "df['Pulse'] = pd.to_numeric(df['Pulse'], errors='coerce')\n",
        "df['Pulse'].fillna(df['Pulse'].mean(), inplace=True)\n",
        "\n",
        "#print(df.to_string())\n",
        "#print(df)"
      ],
      "metadata": {
        "colab": {
          "base_uri": "https://localhost:8080/"
        },
        "id": "o7gKxO0oUVf-",
        "outputId": "7aea8d87-51dc-4d07-eaec-be8632a0ab92"
      },
      "execution_count": null,
      "outputs": [
        {
          "output_type": "stream",
          "name": "stderr",
          "text": [
            "<ipython-input-9-40479ef103ec>:6: FutureWarning: A value is trying to be set on a copy of a DataFrame or Series through chained assignment using an inplace method.\n",
            "The behavior will change in pandas 3.0. This inplace method will never work because the intermediate object on which we are setting values always behaves as a copy.\n",
            "\n",
            "For example, when doing 'df[col].method(value, inplace=True)', try using 'df.method({col: value}, inplace=True)' or df[col] = df[col].method(value) instead, to perform the operation inplace on the original object.\n",
            "\n",
            "\n",
            "  df['Pulse'].fillna(df['Pulse'].mean(), inplace=True)\n"
          ]
        }
      ]
    },
    {
      "cell_type": "markdown",
      "source": [
        "#Wrong data\n"
      ],
      "metadata": {
        "id": "OIVDoPq4t1Sj"
      }
    },
    {
      "cell_type": "code",
      "source": [
        "#Duration (30-60)\n",
        "import pandas as pd\n",
        "\n",
        "df = pd.read_csv('/content/data.csv')\n",
        "df.loc[7, 'Duration'] = 45\n",
        "print(df.loc[6:10])\n",
        "\n",
        "for x in df.index:\n",
        "  if df.loc[x, \"Duration\"] > 120:\n",
        "    df.loc[x, \"Duration\"] = 120\n",
        "print(df.loc[109])\n",
        "print(df.info)\n",
        "\n",
        "for x in df.index:\n",
        "  if df.loc[x, \"Maxpulse\"] > 400:\n",
        "    df.drop(x, inplace = True)\n",
        "#print(df)\n",
        "print(df.info)"
      ],
      "metadata": {
        "colab": {
          "base_uri": "https://localhost:8080/"
        },
        "id": "Clk_jI-et3Qx",
        "outputId": "4d1db067-9679-4757-dd8f-fde1c71d160a"
      },
      "execution_count": null,
      "outputs": [
        {
          "output_type": "stream",
          "name": "stdout",
          "text": [
            "    Duration Pulse  Maxpulse  Calories\n",
            "6         60   102       127     300.0\n",
            "7         45   110       136     374.0\n",
            "8         45     a       134     253.3\n",
            "9         30   109       133     195.1\n",
            "10        60    98       124     269.0\n",
            "Duration       90\n",
            "Pulse          90\n",
            "Maxpulse      120\n",
            "Calories    500.3\n",
            "Name: 109, dtype: object\n",
            "<bound method DataFrame.info of      Duration Pulse  Maxpulse  Calories\n",
            "0          60   110       450     409.1\n",
            "1          60   117       145     479.0\n",
            "2          60   103       135     340.0\n",
            "3          45   109       175     282.4\n",
            "4          45   117       148     406.0\n",
            "..        ...   ...       ...       ...\n",
            "165        60   105       140     290.8\n",
            "166        60   110       145     300.0\n",
            "167        60   115       145     310.2\n",
            "168        75   120       150     320.4\n",
            "169        75   125       150     330.4\n",
            "\n",
            "[170 rows x 4 columns]>\n",
            "<bound method DataFrame.info of      Duration Pulse  Maxpulse  Calories\n",
            "1          60   117       145     479.0\n",
            "2          60   103       135     340.0\n",
            "3          45   109       175     282.4\n",
            "4          45   117       148     406.0\n",
            "5          60   102       127     300.0\n",
            "..        ...   ...       ...       ...\n",
            "165        60   105       140     290.8\n",
            "166        60   110       145     300.0\n",
            "167        60   115       145     310.2\n",
            "168        75   120       150     320.4\n",
            "169        75   125       150     330.4\n",
            "\n",
            "[169 rows x 4 columns]>\n"
          ]
        }
      ]
    },
    {
      "cell_type": "markdown",
      "source": [
        "#Duplicate data"
      ],
      "metadata": {
        "id": "-sKWwnI0xRR2"
      }
    },
    {
      "cell_type": "code",
      "source": [
        "import pandas as pd\n",
        "\n",
        "df = pd.read_csv('/content/data.csv')\n",
        "print(df.duplicated())\n",
        "print(df.info)\n",
        "\n",
        "df.drop_duplicates(inplace = True)\n",
        "print(df.info)\n",
        "\n",
        "# Now your Google Drive is accessible like a folder\n",
        "df.to_csv('/content/drive/MyDrive/Datasets/modified.csv', index=False)\n",
        "print(\"Data entered\")\n"
      ],
      "metadata": {
        "colab": {
          "base_uri": "https://localhost:8080/"
        },
        "id": "ahb6jlZnxTPT",
        "outputId": "3c432de4-3f90-4120-e9f8-fd1161c9222c"
      },
      "execution_count": null,
      "outputs": [
        {
          "output_type": "stream",
          "name": "stdout",
          "text": [
            "0      False\n",
            "1      False\n",
            "2      False\n",
            "3      False\n",
            "4      False\n",
            "       ...  \n",
            "165    False\n",
            "166    False\n",
            "167    False\n",
            "168    False\n",
            "169    False\n",
            "Length: 170, dtype: bool\n",
            "<bound method DataFrame.info of      Duration Pulse  Maxpulse  Calories\n",
            "0          60   110       450     409.1\n",
            "1          60   117       145     479.0\n",
            "2          60   103       135     340.0\n",
            "3          45   109       175     282.4\n",
            "4          45   117       148     406.0\n",
            "..        ...   ...       ...       ...\n",
            "165        60   105       140     290.8\n",
            "166        60   110       145     300.0\n",
            "167        60   115       145     310.2\n",
            "168        75   120       150     320.4\n",
            "169        75   125       150     330.4\n",
            "\n",
            "[170 rows x 4 columns]>\n",
            "<bound method DataFrame.info of      Duration Pulse  Maxpulse  Calories\n",
            "0          60   110       450     409.1\n",
            "1          60   117       145     479.0\n",
            "2          60   103       135     340.0\n",
            "3          45   109       175     282.4\n",
            "4          45   117       148     406.0\n",
            "..        ...   ...       ...       ...\n",
            "165        60   105       140     290.8\n",
            "166        60   110       145     300.0\n",
            "167        60   115       145     310.2\n",
            "168        75   120       150     320.4\n",
            "169        75   125       150     330.4\n",
            "\n",
            "[162 rows x 4 columns]>\n",
            "Data entered\n"
          ]
        }
      ]
    },
    {
      "cell_type": "markdown",
      "source": [
        "#Saving the data"
      ],
      "metadata": {
        "id": "ErHemxxYT8MK"
      }
    },
    {
      "cell_type": "code",
      "source": [
        "df.to_csv('data.csv', index=False)  # Overwrites the original file\n",
        "# OR\n",
        "df.to_csv('data_modified.csv', index=False)  # Saves to a new file\n",
        "\n",
        "df.to_csv('/Users/yourname/Documents/output/modified_data.csv', index=False)\n",
        "df.to_csv('C:/Users/yourname/Desktop/myfolder/data.csv', index=False)\n",
        "\n",
        "#You can dynamically build the path using os.path or pathlib:\n",
        "import os\n",
        "\n",
        "folder = '/Users/yourname/Documents/output'\n",
        "filename = 'modified_data.csv'\n",
        "full_path = os.path.join(folder, filename)\n",
        "\n",
        "df.to_csv(full_path, index=False)\n",
        "\n",
        "#saving to drive\n",
        "from google.colab import drive\n",
        "drive.mount('/content/drive')  # Mount Google Drive\n",
        "\n",
        "# Now your Google Drive is accessible like a folder\n",
        "df.to_csv('/content/drive/My Drive/folder_name/modified_data.csv', index=False)\n"
      ],
      "metadata": {
        "id": "S0HfYN1ET_pE",
        "colab": {
          "base_uri": "https://localhost:8080/",
          "height": 211
        },
        "outputId": "01df5247-2b12-430c-d17c-a2ec45a8bcca"
      },
      "execution_count": 2,
      "outputs": [
        {
          "output_type": "error",
          "ename": "NameError",
          "evalue": "name 'df' is not defined",
          "traceback": [
            "\u001b[0;31m---------------------------------------------------------------------------\u001b[0m",
            "\u001b[0;31mNameError\u001b[0m                                 Traceback (most recent call last)",
            "\u001b[0;32m<ipython-input-2-fb2d118214e0>\u001b[0m in \u001b[0;36m<cell line: 0>\u001b[0;34m()\u001b[0m\n\u001b[0;32m----> 1\u001b[0;31m \u001b[0mdf\u001b[0m\u001b[0;34m.\u001b[0m\u001b[0mto_csv\u001b[0m\u001b[0;34m(\u001b[0m\u001b[0;34m'data.csv'\u001b[0m\u001b[0;34m,\u001b[0m \u001b[0mindex\u001b[0m\u001b[0;34m=\u001b[0m\u001b[0;32mFalse\u001b[0m\u001b[0;34m)\u001b[0m  \u001b[0;31m# Overwrites the original file\u001b[0m\u001b[0;34m\u001b[0m\u001b[0;34m\u001b[0m\u001b[0m\n\u001b[0m\u001b[1;32m      2\u001b[0m \u001b[0;31m# OR\u001b[0m\u001b[0;34m\u001b[0m\u001b[0;34m\u001b[0m\u001b[0m\n\u001b[1;32m      3\u001b[0m \u001b[0mdf\u001b[0m\u001b[0;34m.\u001b[0m\u001b[0mto_csv\u001b[0m\u001b[0;34m(\u001b[0m\u001b[0;34m'data_modified.csv'\u001b[0m\u001b[0;34m,\u001b[0m \u001b[0mindex\u001b[0m\u001b[0;34m=\u001b[0m\u001b[0;32mFalse\u001b[0m\u001b[0;34m)\u001b[0m  \u001b[0;31m# Saves to a new file\u001b[0m\u001b[0;34m\u001b[0m\u001b[0;34m\u001b[0m\u001b[0m\n\u001b[1;32m      4\u001b[0m \u001b[0;34m\u001b[0m\u001b[0m\n\u001b[1;32m      5\u001b[0m \u001b[0mdf\u001b[0m\u001b[0;34m.\u001b[0m\u001b[0mto_csv\u001b[0m\u001b[0;34m(\u001b[0m\u001b[0;34m'/Users/yourname/Documents/output/modified_data.csv'\u001b[0m\u001b[0;34m,\u001b[0m \u001b[0mindex\u001b[0m\u001b[0;34m=\u001b[0m\u001b[0;32mFalse\u001b[0m\u001b[0;34m)\u001b[0m\u001b[0;34m\u001b[0m\u001b[0;34m\u001b[0m\u001b[0m\n",
            "\u001b[0;31mNameError\u001b[0m: name 'df' is not defined"
          ]
        }
      ]
    }
  ]
}