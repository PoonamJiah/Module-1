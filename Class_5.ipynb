{
  "nbformat": 4,
  "nbformat_minor": 0,
  "metadata": {
    "colab": {
      "provenance": [],
      "authorship_tag": "ABX9TyM8v9/mYhCUg9jBIB2KK7DV"
    },
    "kernelspec": {
      "name": "python3",
      "display_name": "Python 3"
    },
    "language_info": {
      "name": "python"
    }
  },
  "cells": [
    {
      "cell_type": "code",
      "execution_count": null,
      "metadata": {
        "colab": {
          "base_uri": "https://localhost:8080/"
        },
        "id": "Qv7Cu3UgTHDy",
        "outputId": "77bf4343-482a-45de-f4f8-f464d92fc7e5"
      },
      "outputs": [
        {
          "output_type": "stream",
          "name": "stdout",
          "text": [
            "5\n"
          ]
        }
      ],
      "source": [
        "class Myclass:\n",
        "  x = 5\n",
        "\n",
        "p1 = Myclass()\n",
        "print(p1.x)\n"
      ]
    },
    {
      "cell_type": "code",
      "source": [
        "class Person:\n",
        "  def __init__(self, name, age):\n",
        "    self.name = name\n",
        "    self.age = age\n",
        "\n",
        "  def __str__(self):\n",
        "    return f\"{self.name},{self.age}\"\n",
        "\n",
        "p1 = Person(\"John\", 36)\n",
        "print(p1)"
      ],
      "metadata": {
        "colab": {
          "base_uri": "https://localhost:8080/"
        },
        "id": "DUU3eOVQUQ8V",
        "outputId": "fd719b1e-0b0d-4058-e8d9-693736b062d0"
      },
      "execution_count": null,
      "outputs": [
        {
          "output_type": "stream",
          "name": "stdout",
          "text": [
            "John,36\n"
          ]
        }
      ]
    },
    {
      "cell_type": "code",
      "source": [
        "class Person:\n",
        "  def __init__(self, name, age):\n",
        "    self.name = name\n",
        "    self.age = age\n",
        "\n",
        "  def a(self):\n",
        "    print(\"Hello:\" + self.name, self.age)\n",
        "\n",
        "p1 = Person(\"John\",36)\n",
        "p1.a()\n"
      ],
      "metadata": {
        "colab": {
          "base_uri": "https://localhost:8080/"
        },
        "id": "vjNDoNvNXcSm",
        "outputId": "5a6fc2b7-2765-459b-ced3-461a4d38ee91"
      },
      "execution_count": null,
      "outputs": [
        {
          "output_type": "stream",
          "name": "stdout",
          "text": [
            "Hello:John 36\n"
          ]
        }
      ]
    },
    {
      "cell_type": "code",
      "source": [],
      "metadata": {
        "id": "vx_UiN_sZ4qy"
      },
      "execution_count": null,
      "outputs": []
    },
    {
      "cell_type": "markdown",
      "source": [
        "#Library example\n"
      ],
      "metadata": {
        "id": "rQztE0GScPnB"
      }
    },
    {
      "cell_type": "code",
      "source": [
        "class library:\n",
        "  def __init__(self):\n",
        "    self.books = {} #empty dictionary\n",
        "\n",
        "  def add_books(self,book_id,book_name,author, quantity): #keys\n",
        "    if book_id in self.books:\n",
        "      print(\"Book id already exists\")\n",
        "      return\n",
        "    if quantity<=0:\n",
        "      print(\"Quantity must be positive\")\n",
        "      return\n",
        "    self.books[book_id] = {\"book_name\":book_name,\"author\":author,\"quantity\":quantity}\n",
        "\n",
        "  def update(self,book_id,book_name = None,author=None,quantity=None):\n",
        "    if book_id not in self.books:\n",
        "      print(\"Book id does not exist\")\n",
        "      return\n",
        "    if book_name is not None:\n",
        "      self.books[book_id][\"book_name\"] = book_name\n",
        "    if author is not None:\n",
        "      self.books[book_id][\"author\"] = author\n",
        "    if quantity is not None:\n",
        "      self.books[book_id][\"quantity\"] = quantity\n",
        "  print(\"Book details have been updated\")\n",
        "\n",
        "  def search(self,search_term):\n",
        "    results = []\n",
        "    for book_id,details in self.books.items():\n",
        "      if search_term.lower() in details[\"book_name\"].lower() or search_term.lower() in details[\"author\"].lower():\n",
        "        results.append((book_id,details))\n",
        "    #return results\n",
        "\n",
        "    if not results:\n",
        "      print(\"No books found\")\n",
        "    else:\n",
        "      for book_id,details in results:\n",
        "        print(f\"ID:{book_id}, Title:{details['book_name']}, Author:{details['author']}, Quantity:{details['quantity']}\")\n",
        "\n",
        "\n",
        "  def display(self):\n",
        "    for book_id,details in self.books.items():\n",
        "      print(f\"ID:{book_id}, Title:{details['book_name']}, Author:{details['author']}, Quantity:{details['quantity']}\")\n",
        "\n",
        "x = library()\n",
        "x.add_books(101,\"Harry Potter\",\"JK Rowling\",10)\n",
        "x.add_books(102,\"Lord of the Rings\",\"JRR Tolkien\",5)\n",
        "x.add_books(103,\"The Hobbit\",\"JRR Tolkien\",3)\n",
        "x.add_books(104,\"Lord of the Rings\",\"JRR Tolkien\",0)\n",
        "#x.display()\n",
        "x.update(101, quantity = 100)\n",
        "x.search(\"Harry Potter\")\n",
        "x.display()"
      ],
      "metadata": {
        "colab": {
          "base_uri": "https://localhost:8080/"
        },
        "id": "Ts7bBWi4fcfv",
        "outputId": "c24fa4a6-7f24-4a64-ed8e-8b9b32c56342"
      },
      "execution_count": null,
      "outputs": [
        {
          "output_type": "stream",
          "name": "stdout",
          "text": [
            "Book details have been updated\n",
            "Quantity must be positive\n",
            "ID:101, Title:Harry Potter, Author:JK Rowling, Quantity:100\n",
            "ID:101, Title:Harry Potter, Author:JK Rowling, Quantity:100\n",
            "ID:102, Title:Lord of the Rings, Author:JRR Tolkien, Quantity:5\n",
            "ID:103, Title:The Hobbit, Author:JRR Tolkien, Quantity:3\n"
          ]
        }
      ]
    }
  ]
}